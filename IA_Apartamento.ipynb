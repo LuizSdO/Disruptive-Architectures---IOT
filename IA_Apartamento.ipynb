{
  "cells": [
    {
      "cell_type": "markdown",
      "metadata": {
        "id": "WMOhXLjAlqp6"
      },
      "source": [
        "## Aprendizagem de máquina\n",
        "\n",
        "### Objetivos\n",
        "\n",
        "  - Avaliar os conceitos de aprendizado de maquina aprendidos no curso\n"
      ]
    },
    {
      "cell_type": "markdown",
      "metadata": {
        "id": "TScbeW5olqp8"
      },
      "source": [
        "# Desafio\n",
        "\n",
        "Você foi contratado por uma empresa inovadora do ramo imobiliario como `QuintoAndar, Loft, Terraz, grupo Zap (ZAP, Viva Real, DataZAP, FipeZAP, SuaHouse, Geoimóvel, Sub100 e Conecta Imobi) ou Imobi Conference`. O seu desafio está no apio à tomada de decisão baseada em dados (empresa data driven). \n",
        "\n",
        "Nesse sentido, use a base de dados **aptos.csv** para realizar a descoberta do conhecimento e responder a pergunta: \n",
        "\n",
        "**`Quanto vale um apartamento de 72m2 com 2 quartos, 2 vagas, reformado no Centro?`**\n"
      ]
    },
    {
      "cell_type": "markdown",
      "source": [
        "**Nome:** Luiz Felipe Souza de Oliveira **RM**- 94538"
      ],
      "metadata": {
        "id": "XuOltLG9K3vb"
      }
    },
    {
      "cell_type": "markdown",
      "metadata": {
        "id": "0MVX6Hpflqp8"
      },
      "source": [
        "### Orientações\n",
        "\n",
        "Siga as instruções, completando e construindo os algoritmos necessários.\n",
        "\n",
        "Nas celulas` Seu Código aqui...` significa que é necessário realizar a implementação de algum código. Utilize quantos blocos(células) julgar necessário para criar o código.\n",
        "\n",
        "Nas celulas `Responda` significa que é nessário uma resposta clara e objetiva (pode ser por texto, código, gráfico, imagem...) para a pergunta."
      ]
    },
    {
      "cell_type": "markdown",
      "metadata": {
        "id": "LVBJr3fRlqp9"
      },
      "source": [
        "## Rubrica para avaliação\n",
        "    \n",
        "Os critérios de avaliação do projeto segue conforme a rubrica.\n",
        "\n",
        "- R1: Exploração de Dados (Até 2 pontos)\n",
        "- R2: Análise Descritiva de Dados (Até 2 pontos)\n",
        "- R3: Desenvolvimento do Modelo (Até 2 pontos)\n",
        "- R4: Treinamento e Teste do Modelo (Até 2 pontos)\n",
        "- R5: Conclusões Finais (Até 2 pontos)\n",
        "\n",
        "**Nota_final = R1 + R2 + R3 + R4 + R5**"
      ]
    },
    {
      "cell_type": "markdown",
      "metadata": {
        "id": "m9d-2CdClqp9"
      },
      "source": [
        "# 1. Exploração de Dados\n",
        "\n",
        "Carregue o dataset e faça uma inspeção nas 15 primeiras linhas para identificação básica dos atributos.\n"
      ]
    },
    {
      "cell_type": "code",
      "execution_count": 1,
      "metadata": {
        "id": "aoYpLb_mlqp9"
      },
      "outputs": [],
      "source": [
        "import seaborn as sns\n",
        "import matplotlib.pyplot as plt\n",
        "import pandas as pd\n",
        "import numpy as np\n",
        "\n",
        "%matplotlib inline"
      ]
    },
    {
      "cell_type": "code",
      "execution_count": 2,
      "metadata": {
        "id": "h3PMaRoOlqp-"
      },
      "outputs": [],
      "source": [
        "#Seu Código aqui....\n",
        "dados = pd.read_csv('aptos.csv', sep=',')"
      ]
    },
    {
      "cell_type": "code",
      "source": [
        "dados.head(10)"
      ],
      "metadata": {
        "colab": {
          "base_uri": "https://localhost:8080/",
          "height": 363
        },
        "id": "3tUfox-dneaI",
        "outputId": "4351b80f-fb97-4dc0-b97d-c5abc5a85e71"
      },
      "execution_count": 3,
      "outputs": [
        {
          "output_type": "execute_result",
          "data": {
            "text/plain": [
              "   metros  valor  quartos  vagas  reformado          bairro\n",
              "0     107  560.0        3      2        0.0  Vila Lusitania\n",
              "1     107  555.0        3      2        1.0  Vila Lusitania\n",
              "2      49  196.0        2      1        0.0    Ferrazopolis\n",
              "3     104  515.0        3      2        1.0          Centro\n",
              "4      92  560.0        3      2        1.0  Vila Lusitania\n",
              "5      51  249.0        2      1        0.0          Taboao\n",
              "6     140  635.0        4      3        1.0          Centro\n",
              "7      50  210.0        2      1        1.0        Demarchi\n",
              "8      93  450.0        3      2        0.0     Baeta Neves\n",
              "9     107  425.0        3      2        1.0     Rudge Ramos"
            ],
            "text/html": [
              "\n",
              "  <div id=\"df-df431b19-0a58-456b-aeeb-af4987cfea2d\">\n",
              "    <div class=\"colab-df-container\">\n",
              "      <div>\n",
              "<style scoped>\n",
              "    .dataframe tbody tr th:only-of-type {\n",
              "        vertical-align: middle;\n",
              "    }\n",
              "\n",
              "    .dataframe tbody tr th {\n",
              "        vertical-align: top;\n",
              "    }\n",
              "\n",
              "    .dataframe thead th {\n",
              "        text-align: right;\n",
              "    }\n",
              "</style>\n",
              "<table border=\"1\" class=\"dataframe\">\n",
              "  <thead>\n",
              "    <tr style=\"text-align: right;\">\n",
              "      <th></th>\n",
              "      <th>metros</th>\n",
              "      <th>valor</th>\n",
              "      <th>quartos</th>\n",
              "      <th>vagas</th>\n",
              "      <th>reformado</th>\n",
              "      <th>bairro</th>\n",
              "    </tr>\n",
              "  </thead>\n",
              "  <tbody>\n",
              "    <tr>\n",
              "      <th>0</th>\n",
              "      <td>107</td>\n",
              "      <td>560.0</td>\n",
              "      <td>3</td>\n",
              "      <td>2</td>\n",
              "      <td>0.0</td>\n",
              "      <td>Vila Lusitania</td>\n",
              "    </tr>\n",
              "    <tr>\n",
              "      <th>1</th>\n",
              "      <td>107</td>\n",
              "      <td>555.0</td>\n",
              "      <td>3</td>\n",
              "      <td>2</td>\n",
              "      <td>1.0</td>\n",
              "      <td>Vila Lusitania</td>\n",
              "    </tr>\n",
              "    <tr>\n",
              "      <th>2</th>\n",
              "      <td>49</td>\n",
              "      <td>196.0</td>\n",
              "      <td>2</td>\n",
              "      <td>1</td>\n",
              "      <td>0.0</td>\n",
              "      <td>Ferrazopolis</td>\n",
              "    </tr>\n",
              "    <tr>\n",
              "      <th>3</th>\n",
              "      <td>104</td>\n",
              "      <td>515.0</td>\n",
              "      <td>3</td>\n",
              "      <td>2</td>\n",
              "      <td>1.0</td>\n",
              "      <td>Centro</td>\n",
              "    </tr>\n",
              "    <tr>\n",
              "      <th>4</th>\n",
              "      <td>92</td>\n",
              "      <td>560.0</td>\n",
              "      <td>3</td>\n",
              "      <td>2</td>\n",
              "      <td>1.0</td>\n",
              "      <td>Vila Lusitania</td>\n",
              "    </tr>\n",
              "    <tr>\n",
              "      <th>5</th>\n",
              "      <td>51</td>\n",
              "      <td>249.0</td>\n",
              "      <td>2</td>\n",
              "      <td>1</td>\n",
              "      <td>0.0</td>\n",
              "      <td>Taboao</td>\n",
              "    </tr>\n",
              "    <tr>\n",
              "      <th>6</th>\n",
              "      <td>140</td>\n",
              "      <td>635.0</td>\n",
              "      <td>4</td>\n",
              "      <td>3</td>\n",
              "      <td>1.0</td>\n",
              "      <td>Centro</td>\n",
              "    </tr>\n",
              "    <tr>\n",
              "      <th>7</th>\n",
              "      <td>50</td>\n",
              "      <td>210.0</td>\n",
              "      <td>2</td>\n",
              "      <td>1</td>\n",
              "      <td>1.0</td>\n",
              "      <td>Demarchi</td>\n",
              "    </tr>\n",
              "    <tr>\n",
              "      <th>8</th>\n",
              "      <td>93</td>\n",
              "      <td>450.0</td>\n",
              "      <td>3</td>\n",
              "      <td>2</td>\n",
              "      <td>0.0</td>\n",
              "      <td>Baeta Neves</td>\n",
              "    </tr>\n",
              "    <tr>\n",
              "      <th>9</th>\n",
              "      <td>107</td>\n",
              "      <td>425.0</td>\n",
              "      <td>3</td>\n",
              "      <td>2</td>\n",
              "      <td>1.0</td>\n",
              "      <td>Rudge Ramos</td>\n",
              "    </tr>\n",
              "  </tbody>\n",
              "</table>\n",
              "</div>\n",
              "      <button class=\"colab-df-convert\" onclick=\"convertToInteractive('df-df431b19-0a58-456b-aeeb-af4987cfea2d')\"\n",
              "              title=\"Convert this dataframe to an interactive table.\"\n",
              "              style=\"display:none;\">\n",
              "        \n",
              "  <svg xmlns=\"http://www.w3.org/2000/svg\" height=\"24px\"viewBox=\"0 0 24 24\"\n",
              "       width=\"24px\">\n",
              "    <path d=\"M0 0h24v24H0V0z\" fill=\"none\"/>\n",
              "    <path d=\"M18.56 5.44l.94 2.06.94-2.06 2.06-.94-2.06-.94-.94-2.06-.94 2.06-2.06.94zm-11 1L8.5 8.5l.94-2.06 2.06-.94-2.06-.94L8.5 2.5l-.94 2.06-2.06.94zm10 10l.94 2.06.94-2.06 2.06-.94-2.06-.94-.94-2.06-.94 2.06-2.06.94z\"/><path d=\"M17.41 7.96l-1.37-1.37c-.4-.4-.92-.59-1.43-.59-.52 0-1.04.2-1.43.59L10.3 9.45l-7.72 7.72c-.78.78-.78 2.05 0 2.83L4 21.41c.39.39.9.59 1.41.59.51 0 1.02-.2 1.41-.59l7.78-7.78 2.81-2.81c.8-.78.8-2.07 0-2.86zM5.41 20L4 18.59l7.72-7.72 1.47 1.35L5.41 20z\"/>\n",
              "  </svg>\n",
              "      </button>\n",
              "      \n",
              "  <style>\n",
              "    .colab-df-container {\n",
              "      display:flex;\n",
              "      flex-wrap:wrap;\n",
              "      gap: 12px;\n",
              "    }\n",
              "\n",
              "    .colab-df-convert {\n",
              "      background-color: #E8F0FE;\n",
              "      border: none;\n",
              "      border-radius: 50%;\n",
              "      cursor: pointer;\n",
              "      display: none;\n",
              "      fill: #1967D2;\n",
              "      height: 32px;\n",
              "      padding: 0 0 0 0;\n",
              "      width: 32px;\n",
              "    }\n",
              "\n",
              "    .colab-df-convert:hover {\n",
              "      background-color: #E2EBFA;\n",
              "      box-shadow: 0px 1px 2px rgba(60, 64, 67, 0.3), 0px 1px 3px 1px rgba(60, 64, 67, 0.15);\n",
              "      fill: #174EA6;\n",
              "    }\n",
              "\n",
              "    [theme=dark] .colab-df-convert {\n",
              "      background-color: #3B4455;\n",
              "      fill: #D2E3FC;\n",
              "    }\n",
              "\n",
              "    [theme=dark] .colab-df-convert:hover {\n",
              "      background-color: #434B5C;\n",
              "      box-shadow: 0px 1px 3px 1px rgba(0, 0, 0, 0.15);\n",
              "      filter: drop-shadow(0px 1px 2px rgba(0, 0, 0, 0.3));\n",
              "      fill: #FFFFFF;\n",
              "    }\n",
              "  </style>\n",
              "\n",
              "      <script>\n",
              "        const buttonEl =\n",
              "          document.querySelector('#df-df431b19-0a58-456b-aeeb-af4987cfea2d button.colab-df-convert');\n",
              "        buttonEl.style.display =\n",
              "          google.colab.kernel.accessAllowed ? 'block' : 'none';\n",
              "\n",
              "        async function convertToInteractive(key) {\n",
              "          const element = document.querySelector('#df-df431b19-0a58-456b-aeeb-af4987cfea2d');\n",
              "          const dataTable =\n",
              "            await google.colab.kernel.invokeFunction('convertToInteractive',\n",
              "                                                     [key], {});\n",
              "          if (!dataTable) return;\n",
              "\n",
              "          const docLinkHtml = 'Like what you see? Visit the ' +\n",
              "            '<a target=\"_blank\" href=https://colab.research.google.com/notebooks/data_table.ipynb>data table notebook</a>'\n",
              "            + ' to learn more about interactive tables.';\n",
              "          element.innerHTML = '';\n",
              "          dataTable['output_type'] = 'display_data';\n",
              "          await google.colab.output.renderOutput(dataTable, element);\n",
              "          const docLink = document.createElement('div');\n",
              "          docLink.innerHTML = docLinkHtml;\n",
              "          element.appendChild(docLink);\n",
              "        }\n",
              "      </script>\n",
              "    </div>\n",
              "  </div>\n",
              "  "
            ]
          },
          "metadata": {},
          "execution_count": 3
        }
      ]
    },
    {
      "cell_type": "markdown",
      "metadata": {
        "id": "hIHRnHrIlqp-"
      },
      "source": [
        "### `Pergunta:` Apresente uma breve descrição do significado de cada atributo:\n",
        "\n",
        "Exemplo:\n",
        "- Idade: Idade em anos da pessoa\n",
        "- Marca: fabricante de carros\n",
        "- Combustivel: tipo de combustível (gasolina, disel...)\n",
        "- Especie: Tipo de flor iris-setosa, virginica... (Variável Alvo)\n",
        "\n",
        "\n",
        "\n",
        "\n"
      ]
    },
    {
      "cell_type": "markdown",
      "metadata": {
        "id": "o3ne04RDlqp-"
      },
      "source": [
        "**Resposta:**\n",
        "\n",
        "-   Metros: É o tamanho ao todo do apartamento. \n",
        "-   Quartos: É o numero de quartos que este apartamento possui.\n",
        "-   Vagas: Capacidade de carros permitidos na garagem.\n",
        "-   Reformado: Se o apartamento ja passou por alguma reforma ou não.\n",
        "-   Bairro: Localização do apartamento."
      ]
    },
    {
      "cell_type": "markdown",
      "metadata": {
        "id": "RmCtCvK9lqp-"
      },
      "source": [
        "**Pergunta:** Cite 2 cenários que podem fazer sentido na leitura dos dados apresentados.\n",
        "\n",
        "Exemplo: \n",
        "- Eu acho que o preço da gasolina sobe com o preço do petróleo. \n",
        "- Eu acho que na média homens são mais altos que mulheres na mesma faixa etaria.  "
      ]
    },
    {
      "cell_type": "markdown",
      "metadata": {
        "id": "8BuFPNVxlqp_"
      },
      "source": [
        "**Resposta:**\n",
        "\n",
        "1.  ...___________ \n",
        "- Eu acho que quanto mais quartos maior vai ser o preço do apartamento.\n",
        "2.  ...___________\n",
        "- Eu acho que quanto maior o tamanho do imóvel maior vai ser o preço dele.\n"
      ]
    },
    {
      "cell_type": "markdown",
      "metadata": {
        "id": "KqG_YyIrlqp_"
      },
      "source": [
        "## 2. Análise descritiva de dados\n",
        "\n",
        "Faça uma análise exploratória dos dados. Utilize-se de gráficos e tabelas auxiliares, faça correlações entre os atributos.... Com o objetivo validar as afirmações levantadas acima."
      ]
    },
    {
      "cell_type": "code",
      "execution_count": 4,
      "metadata": {
        "id": "grIZyrDzlqp_",
        "colab": {
          "base_uri": "https://localhost:8080/"
        },
        "outputId": "ec466653-b207-4604-8638-767a47ebd6fc"
      },
      "outputs": [
        {
          "output_type": "stream",
          "name": "stdout",
          "text": [
            "<class 'pandas.core.frame.DataFrame'>\n",
            "RangeIndex: 114 entries, 0 to 113\n",
            "Data columns (total 6 columns):\n",
            " #   Column     Non-Null Count  Dtype  \n",
            "---  ------     --------------  -----  \n",
            " 0   metros     114 non-null    int64  \n",
            " 1   valor      113 non-null    float64\n",
            " 2   quartos    114 non-null    int64  \n",
            " 3   vagas      114 non-null    int64  \n",
            " 4   reformado  113 non-null    float64\n",
            " 5   bairro     114 non-null    object \n",
            "dtypes: float64(2), int64(3), object(1)\n",
            "memory usage: 5.5+ KB\n"
          ]
        }
      ],
      "source": [
        "#Seu Código aqui...\n",
        "dados.info()"
      ]
    },
    {
      "cell_type": "code",
      "execution_count": 5,
      "metadata": {
        "id": "x2nD5CwQlqp_",
        "colab": {
          "base_uri": "https://localhost:8080/",
          "height": 300
        },
        "outputId": "5f417bf1-3b91-4e26-d6a6-de8c510a2eac"
      },
      "outputs": [
        {
          "output_type": "execute_result",
          "data": {
            "text/plain": [
              "           metros       valor     quartos       vagas   reformado\n",
              "count  114.000000  113.000000  114.000000  114.000000  113.000000\n",
              "mean    79.500000  401.539823    2.543860    1.675439    0.513274\n",
              "std     27.516126  171.370059    0.582037    0.722528    0.502050\n",
              "min     43.000000  188.000000    1.000000    0.000000    0.000000\n",
              "25%     56.000000  255.000000    2.000000    1.000000    0.000000\n",
              "50%     71.000000  347.000000    3.000000    2.000000    1.000000\n",
              "75%     99.000000  515.000000    3.000000    2.000000    1.000000\n",
              "max    199.000000  880.000000    4.000000    4.000000    1.000000"
            ],
            "text/html": [
              "\n",
              "  <div id=\"df-d85288c2-b1de-44d1-a2c1-fbf050429f48\">\n",
              "    <div class=\"colab-df-container\">\n",
              "      <div>\n",
              "<style scoped>\n",
              "    .dataframe tbody tr th:only-of-type {\n",
              "        vertical-align: middle;\n",
              "    }\n",
              "\n",
              "    .dataframe tbody tr th {\n",
              "        vertical-align: top;\n",
              "    }\n",
              "\n",
              "    .dataframe thead th {\n",
              "        text-align: right;\n",
              "    }\n",
              "</style>\n",
              "<table border=\"1\" class=\"dataframe\">\n",
              "  <thead>\n",
              "    <tr style=\"text-align: right;\">\n",
              "      <th></th>\n",
              "      <th>metros</th>\n",
              "      <th>valor</th>\n",
              "      <th>quartos</th>\n",
              "      <th>vagas</th>\n",
              "      <th>reformado</th>\n",
              "    </tr>\n",
              "  </thead>\n",
              "  <tbody>\n",
              "    <tr>\n",
              "      <th>count</th>\n",
              "      <td>114.000000</td>\n",
              "      <td>113.000000</td>\n",
              "      <td>114.000000</td>\n",
              "      <td>114.000000</td>\n",
              "      <td>113.000000</td>\n",
              "    </tr>\n",
              "    <tr>\n",
              "      <th>mean</th>\n",
              "      <td>79.500000</td>\n",
              "      <td>401.539823</td>\n",
              "      <td>2.543860</td>\n",
              "      <td>1.675439</td>\n",
              "      <td>0.513274</td>\n",
              "    </tr>\n",
              "    <tr>\n",
              "      <th>std</th>\n",
              "      <td>27.516126</td>\n",
              "      <td>171.370059</td>\n",
              "      <td>0.582037</td>\n",
              "      <td>0.722528</td>\n",
              "      <td>0.502050</td>\n",
              "    </tr>\n",
              "    <tr>\n",
              "      <th>min</th>\n",
              "      <td>43.000000</td>\n",
              "      <td>188.000000</td>\n",
              "      <td>1.000000</td>\n",
              "      <td>0.000000</td>\n",
              "      <td>0.000000</td>\n",
              "    </tr>\n",
              "    <tr>\n",
              "      <th>25%</th>\n",
              "      <td>56.000000</td>\n",
              "      <td>255.000000</td>\n",
              "      <td>2.000000</td>\n",
              "      <td>1.000000</td>\n",
              "      <td>0.000000</td>\n",
              "    </tr>\n",
              "    <tr>\n",
              "      <th>50%</th>\n",
              "      <td>71.000000</td>\n",
              "      <td>347.000000</td>\n",
              "      <td>3.000000</td>\n",
              "      <td>2.000000</td>\n",
              "      <td>1.000000</td>\n",
              "    </tr>\n",
              "    <tr>\n",
              "      <th>75%</th>\n",
              "      <td>99.000000</td>\n",
              "      <td>515.000000</td>\n",
              "      <td>3.000000</td>\n",
              "      <td>2.000000</td>\n",
              "      <td>1.000000</td>\n",
              "    </tr>\n",
              "    <tr>\n",
              "      <th>max</th>\n",
              "      <td>199.000000</td>\n",
              "      <td>880.000000</td>\n",
              "      <td>4.000000</td>\n",
              "      <td>4.000000</td>\n",
              "      <td>1.000000</td>\n",
              "    </tr>\n",
              "  </tbody>\n",
              "</table>\n",
              "</div>\n",
              "      <button class=\"colab-df-convert\" onclick=\"convertToInteractive('df-d85288c2-b1de-44d1-a2c1-fbf050429f48')\"\n",
              "              title=\"Convert this dataframe to an interactive table.\"\n",
              "              style=\"display:none;\">\n",
              "        \n",
              "  <svg xmlns=\"http://www.w3.org/2000/svg\" height=\"24px\"viewBox=\"0 0 24 24\"\n",
              "       width=\"24px\">\n",
              "    <path d=\"M0 0h24v24H0V0z\" fill=\"none\"/>\n",
              "    <path d=\"M18.56 5.44l.94 2.06.94-2.06 2.06-.94-2.06-.94-.94-2.06-.94 2.06-2.06.94zm-11 1L8.5 8.5l.94-2.06 2.06-.94-2.06-.94L8.5 2.5l-.94 2.06-2.06.94zm10 10l.94 2.06.94-2.06 2.06-.94-2.06-.94-.94-2.06-.94 2.06-2.06.94z\"/><path d=\"M17.41 7.96l-1.37-1.37c-.4-.4-.92-.59-1.43-.59-.52 0-1.04.2-1.43.59L10.3 9.45l-7.72 7.72c-.78.78-.78 2.05 0 2.83L4 21.41c.39.39.9.59 1.41.59.51 0 1.02-.2 1.41-.59l7.78-7.78 2.81-2.81c.8-.78.8-2.07 0-2.86zM5.41 20L4 18.59l7.72-7.72 1.47 1.35L5.41 20z\"/>\n",
              "  </svg>\n",
              "      </button>\n",
              "      \n",
              "  <style>\n",
              "    .colab-df-container {\n",
              "      display:flex;\n",
              "      flex-wrap:wrap;\n",
              "      gap: 12px;\n",
              "    }\n",
              "\n",
              "    .colab-df-convert {\n",
              "      background-color: #E8F0FE;\n",
              "      border: none;\n",
              "      border-radius: 50%;\n",
              "      cursor: pointer;\n",
              "      display: none;\n",
              "      fill: #1967D2;\n",
              "      height: 32px;\n",
              "      padding: 0 0 0 0;\n",
              "      width: 32px;\n",
              "    }\n",
              "\n",
              "    .colab-df-convert:hover {\n",
              "      background-color: #E2EBFA;\n",
              "      box-shadow: 0px 1px 2px rgba(60, 64, 67, 0.3), 0px 1px 3px 1px rgba(60, 64, 67, 0.15);\n",
              "      fill: #174EA6;\n",
              "    }\n",
              "\n",
              "    [theme=dark] .colab-df-convert {\n",
              "      background-color: #3B4455;\n",
              "      fill: #D2E3FC;\n",
              "    }\n",
              "\n",
              "    [theme=dark] .colab-df-convert:hover {\n",
              "      background-color: #434B5C;\n",
              "      box-shadow: 0px 1px 3px 1px rgba(0, 0, 0, 0.15);\n",
              "      filter: drop-shadow(0px 1px 2px rgba(0, 0, 0, 0.3));\n",
              "      fill: #FFFFFF;\n",
              "    }\n",
              "  </style>\n",
              "\n",
              "      <script>\n",
              "        const buttonEl =\n",
              "          document.querySelector('#df-d85288c2-b1de-44d1-a2c1-fbf050429f48 button.colab-df-convert');\n",
              "        buttonEl.style.display =\n",
              "          google.colab.kernel.accessAllowed ? 'block' : 'none';\n",
              "\n",
              "        async function convertToInteractive(key) {\n",
              "          const element = document.querySelector('#df-d85288c2-b1de-44d1-a2c1-fbf050429f48');\n",
              "          const dataTable =\n",
              "            await google.colab.kernel.invokeFunction('convertToInteractive',\n",
              "                                                     [key], {});\n",
              "          if (!dataTable) return;\n",
              "\n",
              "          const docLinkHtml = 'Like what you see? Visit the ' +\n",
              "            '<a target=\"_blank\" href=https://colab.research.google.com/notebooks/data_table.ipynb>data table notebook</a>'\n",
              "            + ' to learn more about interactive tables.';\n",
              "          element.innerHTML = '';\n",
              "          dataTable['output_type'] = 'display_data';\n",
              "          await google.colab.output.renderOutput(dataTable, element);\n",
              "          const docLink = document.createElement('div');\n",
              "          docLink.innerHTML = docLinkHtml;\n",
              "          element.appendChild(docLink);\n",
              "        }\n",
              "      </script>\n",
              "    </div>\n",
              "  </div>\n",
              "  "
            ]
          },
          "metadata": {},
          "execution_count": 5
        }
      ],
      "source": [
        "#Seu Código aqui...\n",
        "dados.describe()"
      ]
    },
    {
      "cell_type": "code",
      "source": [
        "import plotly.express as px\n"
      ],
      "metadata": {
        "id": "tQlsB4H_fsaF"
      },
      "execution_count": 6,
      "outputs": []
    },
    {
      "cell_type": "code",
      "source": [
        "sns.boxplot(x='quartos', y='valor', data=dados)"
      ],
      "metadata": {
        "colab": {
          "base_uri": "https://localhost:8080/",
          "height": 297
        },
        "id": "EjV-c4Q5hS-I",
        "outputId": "91f72711-ea5d-4791-edbb-ed5a41867b0c"
      },
      "execution_count": 7,
      "outputs": [
        {
          "output_type": "execute_result",
          "data": {
            "text/plain": [
              "<AxesSubplot:xlabel='quartos', ylabel='valor'>"
            ]
          },
          "metadata": {},
          "execution_count": 7
        },
        {
          "output_type": "display_data",
          "data": {
            "text/plain": [
              "<Figure size 432x288 with 1 Axes>"
            ],
            "image/png": "[encoded data removed]"
          },
          "metadata": {
            "needs_background": "light"
          }
        }
      ]
    },
    {
      "cell_type": "code",
      "source": [
        "sns.boxplot(x='reformado', y='valor', data=dados)\n",
        "plt.title('')"
      ],
      "metadata": {
        "colab": {
          "base_uri": "https://localhost:8080/",
          "height": 297
        },
        "id": "OhrIYrTHiwys",
        "outputId": "a23fc083-12f5-4c17-8bd1-aef74ef6ec9f"
      },
      "execution_count": 8,
      "outputs": [
        {
          "output_type": "execute_result",
          "data": {
            "text/plain": [
              "Text(0.5, 1.0, '')"
            ]
          },
          "metadata": {},
          "execution_count": 8
        },
        {
          "output_type": "display_data",
          "data": {
            "text/plain": [
              "<Figure size 432x288 with 1 Axes>"
            ],
            "image/png": "[encoded data removed]"
          },
          "metadata": {
            "needs_background": "light"
          }
        }
      ]
    },
    {
      "cell_type": "code",
      "source": [
        "dados[['valor', 'metros',]].hist(figsize=(20,8), bins=50);"
      ],
      "metadata": {
        "colab": {
          "base_uri": "https://localhost:8080/",
          "height": 360
        },
        "id": "9M18-dgRpG7I",
        "outputId": "b77fadae-f88c-4aa8-dfd7-6a787a8fba34"
      },
      "execution_count": 9,
      "outputs": [
        {
          "output_type": "display_data",
          "data": {
            "text/plain": [
              "<Figure size 1440x576 with 2 Axes>"
            ],
            "image/png": "[encoded data removed]"
          },
          "metadata": {
            "needs_background": "light"
          }
        }
      ]
    },
    {
      "cell_type": "markdown",
      "metadata": {
        "id": "U86CcTDclqp_"
      },
      "source": [
        "### __(BONUS: 1 ponto extra.)__ Análise de Outliers\n",
        "*Esse é um ponto extra, faça se quiser...\n",
        "\n",
        "Realize a análise e o tratamento de **outliers**, como referência para estudo:\n",
        "\n",
        "* [link1](https://machinelearningmastery.com/model-based-outlier-detection-and-removal-in-python/)\n",
        "* [link2](https://towardsdatascience.com/4-machine-learning-techniques-for-outlier-detection-in-python-21e9cfacb81d)\n",
        "* [link3](https://minerandodados.com.br/tratando-outliers-python/)\n",
        "\n",
        "**Pergunta:** Foram localizados outliers? Qual o método de análise adotado? Se existe, como os dados foram tratados (foram removidos ou mantidos)? "
      ]
    },
    {
      "cell_type": "markdown",
      "metadata": {
        "id": "cVgzf2J8lqp_"
      },
      "source": [
        "## 3. Desenvolvimento do Modelo"
      ]
    },
    {
      "cell_type": "markdown",
      "metadata": {
        "id": "oIVtQEw-lqqA"
      },
      "source": [
        "**Pergunta:** O conjunto de dados indica a aplicação de qual modelo de aprendizagem de maquina para determinação do valor de um imóvel? Por que ? "
      ]
    },
    {
      "cell_type": "markdown",
      "metadata": {
        "id": "Ow2w1ojTlqqA"
      },
      "source": [
        "**Resposta:**\n",
        "\n",
        "    [ ] Aprendizado por reforço\n",
        "    [x] Aprendizado supervisionado\n",
        "    [ ] Aprendizado não supervisionado"
      ]
    },
    {
      "cell_type": "markdown",
      "metadata": {
        "id": "Kq4kXGlUlqqA"
      },
      "source": [
        "**Pergunta:** Qual a técnica sugerida para este projeto?"
      ]
    },
    {
      "cell_type": "markdown",
      "metadata": {
        "id": "6VFHGh4WlqqA"
      },
      "source": [
        "**Resposta:**\n",
        "\n",
        "    [x] Regressão\n",
        "    [ ] Classificação\n",
        "    [ ] Clusterização"
      ]
    },
    {
      "cell_type": "markdown",
      "metadata": {
        "id": "9kWlscUulqqA"
      },
      "source": [
        "**Pergunta:** Escolha 2 modelos de algoritmos para testar a performance de cada um deles."
      ]
    },
    {
      "cell_type": "markdown",
      "metadata": {
        "id": "dB2a7QmylqqA"
      },
      "source": [
        "**Resposta:**\n",
        "\n",
        "1. algoritimo regressão linear múltipla \n",
        "2. algoritimo random forest."
      ]
    },
    {
      "cell_type": "markdown",
      "metadata": {
        "id": "HVvB1kmalqqA"
      },
      "source": [
        "__(BONUS: 1 ponto extra.)__ **Pergunta:** Explique como cada algoritmo funciona.\n"
      ]
    },
    {
      "cell_type": "markdown",
      "metadata": {
        "id": "N811UHY5lqqA"
      },
      "source": [
        "**Resposta:**\n",
        "\n",
        "1. algoritimo  de Regressão Linear Múltiplo ele irá \"setar\" diversas variáveis independentes. \n",
        "2. algoritimo Random Forest é composto por várias árvores de decisão que quando combinados os modelos terá um aumento no resultado final"
      ]
    },
    {
      "cell_type": "markdown",
      "metadata": {
        "id": "tTE-uU3IlqqA"
      },
      "source": [
        "## 4. Treinamento e teste do modelo"
      ]
    },
    {
      "cell_type": "markdown",
      "metadata": {
        "id": "jL_i9qGDlqqB"
      },
      "source": [
        "Crie um subset dos dados apenas com os atributos que serão utilizados para o treinameno e teste do modelo. Divida o subset em conjunto de treinamento e teste."
      ]
    },
    {
      "cell_type": "code",
      "execution_count": 10,
      "metadata": {
        "id": "WmjUeAdjlqqB"
      },
      "outputs": [],
      "source": [
        "from sklearn.model_selection import train_test_split"
      ]
    },
    {
      "cell_type": "code",
      "source": [
        "valores = dados[['metros', 'valor', 'quartos', 'vagas', 'reformado']].dropna()"
      ],
      "metadata": {
        "id": "LHieiLmXmNBo"
      },
      "execution_count": 11,
      "outputs": []
    },
    {
      "cell_type": "code",
      "source": [
        "x = valores[['metros', 'quartos', 'vagas', 'reformado']]\n",
        "y = valores['valor']"
      ],
      "metadata": {
        "id": "TsmGtrAPm24H"
      },
      "execution_count": 12,
      "outputs": []
    },
    {
      "cell_type": "code",
      "source": [
        "x_treino, x_teste, y_treino, y_teste = train_test_split(x, y, test_size=0.3, random_state=40)"
      ],
      "metadata": {
        "id": "XWdqxf6enSEi"
      },
      "execution_count": 13,
      "outputs": []
    },
    {
      "cell_type": "markdown",
      "metadata": {
        "id": "10x2G4VFlqqB"
      },
      "source": [
        "Faça o treinamento e teste dos 2 algoritmos escolhidos. Utilize uma métrica (ex. R2-score, RMSE e MAE...) para avaliar a performance dos modelos."
      ]
    },
    {
      "cell_type": "markdown",
      "metadata": {
        "id": "MGiHJF1MlqqB"
      },
      "source": [
        " Regressão Linear Múltiplo"
      ]
    },
    {
      "cell_type": "code",
      "execution_count": 14,
      "metadata": {
        "id": "7kyFefxPlqqB",
        "colab": {
          "base_uri": "https://localhost:8080/",
          "height": 74
        },
        "outputId": "dabe11bb-b7e5-460a-a571-51682c4d16e3"
      },
      "outputs": [
        {
          "output_type": "execute_result",
          "data": {
            "text/plain": [
              "LinearRegression()"
            ],
            "text/html": [
              "<style>#sk-container-id-1 {color: black;background-color: white;}#sk-container-id-1 pre{padding: 0;}#sk-container-id-1 div.sk-toggleable {background-color: white;}#sk-container-id-1 label.sk-toggleable__label {cursor: pointer;display: block;width: 100%;margin-bottom: 0;padding: 0.3em;box-sizing: border-box;text-align: center;}#sk-container-id-1 label.sk-toggleable__label-arrow:before {content: \"▸\";float: left;margin-right: 0.25em;color: #696969;}#sk-container-id-1 label.sk-toggleable__label-arrow:hover:before {color: black;}#sk-container-id-1 div.sk-estimator:hover label.sk-toggleable__label-arrow:before {color: black;}#sk-container-id-1 div.sk-toggleable__content {max-height: 0;max-width: 0;overflow: hidden;text-align: left;background-color: #f0f8ff;}#sk-container-id-1 div.sk-toggleable__content pre {margin: 0.2em;color: black;border-radius: 0.25em;background-color: #f0f8ff;}#sk-container-id-1 input.sk-toggleable__control:checked~div.sk-toggleable__content {max-height: 200px;max-width: 100%;overflow: auto;}#sk-container-id-1 input.sk-toggleable__control:checked~label.sk-toggleable__label-arrow:before {content: \"▾\";}#sk-container-id-1 div.sk-estimator input.sk-toggleable__control:checked~label.sk-toggleable__label {background-color: #d4ebff;}#sk-container-id-1 div.sk-label input.sk-toggleable__control:checked~label.sk-toggleable__label {background-color: #d4ebff;}#sk-container-id-1 input.sk-hidden--visually {border: 0;clip: rect(1px 1px 1px 1px);clip: rect(1px, 1px, 1px, 1px);height: 1px;margin: -1px;overflow: hidden;padding: 0;position: absolute;width: 1px;}#sk-container-id-1 div.sk-estimator {font-family: monospace;background-color: #f0f8ff;border: 1px dotted black;border-radius: 0.25em;box-sizing: border-box;margin-bottom: 0.5em;}#sk-container-id-1 div.sk-estimator:hover {background-color: #d4ebff;}#sk-container-id-1 div.sk-parallel-item::after {content: \"\";width: 100%;border-bottom: 1px solid gray;flex-grow: 1;}#sk-container-id-1 div.sk-label:hover label.sk-toggleable__label {background-color: #d4ebff;}#sk-container-id-1 div.sk-serial::before {content: \"\";position: absolute;border-left: 1px solid gray;box-sizing: border-box;top: 0;bottom: 0;left: 50%;z-index: 0;}#sk-container-id-1 div.sk-serial {display: flex;flex-direction: column;align-items: center;background-color: white;padding-right: 0.2em;padding-left: 0.2em;position: relative;}#sk-container-id-1 div.sk-item {position: relative;z-index: 1;}#sk-container-id-1 div.sk-parallel {display: flex;align-items: stretch;justify-content: center;background-color: white;position: relative;}#sk-container-id-1 div.sk-item::before, #sk-container-id-1 div.sk-parallel-item::before {content: \"\";position: absolute;border-left: 1px solid gray;box-sizing: border-box;top: 0;bottom: 0;left: 50%;z-index: -1;}#sk-container-id-1 div.sk-parallel-item {display: flex;flex-direction: column;z-index: 1;position: relative;background-color: white;}#sk-container-id-1 div.sk-parallel-item:first-child::after {align-self: flex-end;width: 50%;}#sk-container-id-1 div.sk-parallel-item:last-child::after {align-self: flex-start;width: 50%;}#sk-container-id-1 div.sk-parallel-item:only-child::after {width: 0;}#sk-container-id-1 div.sk-dashed-wrapped {border: 1px dashed gray;margin: 0 0.4em 0.5em 0.4em;box-sizing: border-box;padding-bottom: 0.4em;background-color: white;}#sk-container-id-1 div.sk-label label {font-family: monospace;font-weight: bold;display: inline-block;line-height: 1.2em;}#sk-container-id-1 div.sk-label-container {text-align: center;}#sk-container-id-1 div.sk-container {/* jupyter's `normalize.less` sets `[hidden] { display: none; }` but bootstrap.min.css set `[hidden] { display: none !important; }` so we also need the `!important` here to be able to override the default hidden behavior on the sphinx rendered scikit-learn.org. See: https://github.com/scikit-learn/scikit-learn/issues/21755 */display: inline-block !important;position: relative;}#sk-container-id-1 div.sk-text-repr-fallback {display: none;}</style><div id=\"sk-container-id-1\" class=\"sk-top-container\"><div class=\"sk-text-repr-fallback\"><pre>LinearRegression()</pre><b>In a Jupyter environment, please rerun this cell to show the HTML representation or trust the notebook. <br />On GitHub, the HTML representation is unable to render, please try loading this page with nbviewer.org.</b></div><div class=\"sk-container\" hidden><div class=\"sk-item\"><div class=\"sk-estimator sk-toggleable\"><input class=\"sk-toggleable__control sk-hidden--visually\" id=\"sk-estimator-id-1\" type=\"checkbox\" checked><label for=\"sk-estimator-id-1\" class=\"sk-toggleable__label sk-toggleable__label-arrow\">LinearRegression</label><div class=\"sk-toggleable__content\"><pre>LinearRegression()</pre></div></div></div></div></div>"
            ]
          },
          "metadata": {},
          "execution_count": 14
        }
      ],
      "source": [
        "#Seu Código aqui...\n",
        "from sklearn.linear_model import LinearRegression\n",
        "from sklearn.metrics import mean_squared_error, mean_absolute_error, r2_score\n",
        "\n",
        "modelo = LinearRegression()\n",
        "\n",
        "modelo.fit(x_treino,y_treino)\n",
        "\n",
        "LinearRegression() "
      ]
    },
    {
      "cell_type": "code",
      "source": [
        "predicao = modelo.predict(x_teste)"
      ],
      "metadata": {
        "id": "HxBHvcCZz9q7"
      },
      "execution_count": 15,
      "outputs": []
    },
    {
      "cell_type": "code",
      "source": [
        "treino_squared = mean_squared_error(y_treino, modelo.predict(x_treino))\n",
        "teste_squared = mean_squared_error(y_teste, modelo.predict(x_teste))\n",
        "print(treino_squared)\n",
        "print(teste_squared)"
      ],
      "metadata": {
        "colab": {
          "base_uri": "https://localhost:8080/"
        },
        "id": "F3KXEeLg0iBt",
        "outputId": "e4e0fe19-3569-4677-dd74-dbbb35de3c01"
      },
      "execution_count": 16,
      "outputs": [
        {
          "output_type": "stream",
          "name": "stdout",
          "text": [
            "3873.154310222195\n",
            "6555.924412074953\n"
          ]
        }
      ]
    },
    {
      "cell_type": "code",
      "source": [
        "treino_absolute = mean_absolute_error(y_treino, modelo.predict(x_treino))\n",
        "teste_absolute = mean_absolute_error(y_teste, modelo.predict(x_teste))\n",
        "print(treino_absolute)\n",
        "print(teste_absolute)"
      ],
      "metadata": {
        "colab": {
          "base_uri": "https://localhost:8080/"
        },
        "id": "V8zRl7rs6Chx",
        "outputId": "f53a0293-af9d-454e-947e-88fc69485638"
      },
      "execution_count": 17,
      "outputs": [
        {
          "output_type": "stream",
          "name": "stdout",
          "text": [
            "46.82055959463445\n",
            "58.859159557478044\n"
          ]
        }
      ]
    },
    {
      "cell_type": "code",
      "source": [
        "treino_score = r2_score(y_treino, modelo.predict(x_treino))\n",
        "teste_score = r2_score(y_teste, modelo.predict(x_teste))\n",
        "print(treino_score)\n",
        "print(teste_score)"
      ],
      "metadata": {
        "colab": {
          "base_uri": "https://localhost:8080/"
        },
        "id": "imL6YVVLy1jf",
        "outputId": "aac91557-8bef-4caf-bd15-9d4099fc652d"
      },
      "execution_count": 18,
      "outputs": [
        {
          "output_type": "stream",
          "name": "stdout",
          "text": [
            "0.8573292367723077\n",
            "0.7982617007953036\n"
          ]
        }
      ]
    },
    {
      "cell_type": "markdown",
      "metadata": {
        "id": "5IboD5_BlqqB"
      },
      "source": [
        "Random Forest"
      ]
    },
    {
      "cell_type": "code",
      "execution_count": 21,
      "metadata": {
        "id": "Nwq3ptIdlqqB",
        "colab": {
          "base_uri": "https://localhost:8080/",
          "height": 74
        },
        "outputId": "715a9bc3-2542-4697-968d-09dd0cfb2077"
      },
      "outputs": [
        {
          "output_type": "execute_result",
          "data": {
            "text/plain": [
              "RandomForestRegressor(random_state=42)"
            ],
            "text/html": [
              "<style>#sk-container-id-2 {color: black;background-color: white;}#sk-container-id-2 pre{padding: 0;}#sk-container-id-2 div.sk-toggleable {background-color: white;}#sk-container-id-2 label.sk-toggleable__label {cursor: pointer;display: block;width: 100%;margin-bottom: 0;padding: 0.3em;box-sizing: border-box;text-align: center;}#sk-container-id-2 label.sk-toggleable__label-arrow:before {content: \"▸\";float: left;margin-right: 0.25em;color: #696969;}#sk-container-id-2 label.sk-toggleable__label-arrow:hover:before {color: black;}#sk-container-id-2 div.sk-estimator:hover label.sk-toggleable__label-arrow:before {color: black;}#sk-container-id-2 div.sk-toggleable__content {max-height: 0;max-width: 0;overflow: hidden;text-align: left;background-color: #f0f8ff;}#sk-container-id-2 div.sk-toggleable__content pre {margin: 0.2em;color: black;border-radius: 0.25em;background-color: #f0f8ff;}#sk-container-id-2 input.sk-toggleable__control:checked~div.sk-toggleable__content {max-height: 200px;max-width: 100%;overflow: auto;}#sk-container-id-2 input.sk-toggleable__control:checked~label.sk-toggleable__label-arrow:before {content: \"▾\";}#sk-container-id-2 div.sk-estimator input.sk-toggleable__control:checked~label.sk-toggleable__label {background-color: #d4ebff;}#sk-container-id-2 div.sk-label input.sk-toggleable__control:checked~label.sk-toggleable__label {background-color: #d4ebff;}#sk-container-id-2 input.sk-hidden--visually {border: 0;clip: rect(1px 1px 1px 1px);clip: rect(1px, 1px, 1px, 1px);height: 1px;margin: -1px;overflow: hidden;padding: 0;position: absolute;width: 1px;}#sk-container-id-2 div.sk-estimator {font-family: monospace;background-color: #f0f8ff;border: 1px dotted black;border-radius: 0.25em;box-sizing: border-box;margin-bottom: 0.5em;}#sk-container-id-2 div.sk-estimator:hover {background-color: #d4ebff;}#sk-container-id-2 div.sk-parallel-item::after {content: \"\";width: 100%;border-bottom: 1px solid gray;flex-grow: 1;}#sk-container-id-2 div.sk-label:hover label.sk-toggleable__label {background-color: #d4ebff;}#sk-container-id-2 div.sk-serial::before {content: \"\";position: absolute;border-left: 1px solid gray;box-sizing: border-box;top: 0;bottom: 0;left: 50%;z-index: 0;}#sk-container-id-2 div.sk-serial {display: flex;flex-direction: column;align-items: center;background-color: white;padding-right: 0.2em;padding-left: 0.2em;position: relative;}#sk-container-id-2 div.sk-item {position: relative;z-index: 1;}#sk-container-id-2 div.sk-parallel {display: flex;align-items: stretch;justify-content: center;background-color: white;position: relative;}#sk-container-id-2 div.sk-item::before, #sk-container-id-2 div.sk-parallel-item::before {content: \"\";position: absolute;border-left: 1px solid gray;box-sizing: border-box;top: 0;bottom: 0;left: 50%;z-index: -1;}#sk-container-id-2 div.sk-parallel-item {display: flex;flex-direction: column;z-index: 1;position: relative;background-color: white;}#sk-container-id-2 div.sk-parallel-item:first-child::after {align-self: flex-end;width: 50%;}#sk-container-id-2 div.sk-parallel-item:last-child::after {align-self: flex-start;width: 50%;}#sk-container-id-2 div.sk-parallel-item:only-child::after {width: 0;}#sk-container-id-2 div.sk-dashed-wrapped {border: 1px dashed gray;margin: 0 0.4em 0.5em 0.4em;box-sizing: border-box;padding-bottom: 0.4em;background-color: white;}#sk-container-id-2 div.sk-label label {font-family: monospace;font-weight: bold;display: inline-block;line-height: 1.2em;}#sk-container-id-2 div.sk-label-container {text-align: center;}#sk-container-id-2 div.sk-container {/* jupyter's `normalize.less` sets `[hidden] { display: none; }` but bootstrap.min.css set `[hidden] { display: none !important; }` so we also need the `!important` here to be able to override the default hidden behavior on the sphinx rendered scikit-learn.org. See: https://github.com/scikit-learn/scikit-learn/issues/21755 */display: inline-block !important;position: relative;}#sk-container-id-2 div.sk-text-repr-fallback {display: none;}</style><div id=\"sk-container-id-2\" class=\"sk-top-container\"><div class=\"sk-text-repr-fallback\"><pre>RandomForestRegressor(random_state=42)</pre><b>In a Jupyter environment, please rerun this cell to show the HTML representation or trust the notebook. <br />On GitHub, the HTML representation is unable to render, please try loading this page with nbviewer.org.</b></div><div class=\"sk-container\" hidden><div class=\"sk-item\"><div class=\"sk-estimator sk-toggleable\"><input class=\"sk-toggleable__control sk-hidden--visually\" id=\"sk-estimator-id-2\" type=\"checkbox\" checked><label for=\"sk-estimator-id-2\" class=\"sk-toggleable__label sk-toggleable__label-arrow\">RandomForestRegressor</label><div class=\"sk-toggleable__content\"><pre>RandomForestRegressor(random_state=42)</pre></div></div></div></div></div>"
            ]
          },
          "metadata": {},
          "execution_count": 21
        }
      ],
      "source": [
        "#Seu Código aqui...\n",
        "from sklearn.ensemble import RandomForestRegressor\n",
        "from sklearn.metrics import mean_squared_error, r2_score, mean_absolute_error\n",
        "\n",
        "random = RandomForestRegressor(random_state=42)\n",
        "random.fit(x_treino, y_treino)\n"
      ]
    },
    {
      "cell_type": "code",
      "source": [
        "y_predicoes = random.predict(x_teste)"
      ],
      "metadata": {
        "id": "vQZwFogZ4Dh6"
      },
      "execution_count": 22,
      "outputs": []
    },
    {
      "cell_type": "code",
      "source": [
        "random_train_absolute = mean_absolute_error(y_treino, random.predict(x_treino))\n",
        "random_test_absolute = mean_absolute_error(y_teste, random.predict(x_teste))\n",
        "print(random_train_absolute)\n",
        "print(random_test_absolute)"
      ],
      "metadata": {
        "colab": {
          "base_uri": "https://localhost:8080/"
        },
        "id": "plXbrquA4HZ2",
        "outputId": "5f6035e5-92a5-4b3e-f1f2-a499f7e9bb15"
      },
      "execution_count": 23,
      "outputs": [
        {
          "output_type": "stream",
          "name": "stdout",
          "text": [
            "29.67345329670329\n",
            "55.65739472455648\n"
          ]
        }
      ]
    },
    {
      "cell_type": "code",
      "source": [
        "random_train_squared = mean_squared_error(y_treino, random.predict(x_treino))\n",
        "random_test_squared = mean_squared_error(y_teste, random.predict(x_teste))\n",
        "print(random_train_squared)\n",
        "print(random_test_squared)"
      ],
      "metadata": {
        "colab": {
          "base_uri": "https://localhost:8080/"
        },
        "id": "mbYdvHiU4Kxh",
        "outputId": "be12dc0a-ddd7-469f-fe4c-eef62f9f2754"
      },
      "execution_count": 24,
      "outputs": [
        {
          "output_type": "stream",
          "name": "stdout",
          "text": [
            "1762.9250907610897\n",
            "5127.555620702578\n"
          ]
        }
      ]
    },
    {
      "cell_type": "code",
      "source": [
        "random_train_score = r2_score(y_treino, random.predict(x_treino))\n",
        "random_test_score = r2_score(y_teste, random.predict(x_teste))\n",
        "print(random_train_score)\n",
        "print(random_test_score)"
      ],
      "metadata": {
        "colab": {
          "base_uri": "https://localhost:8080/"
        },
        "id": "zQEPBehd4OX_",
        "outputId": "c3644975-3dc1-42e2-93ac-678f61fadbad"
      },
      "execution_count": 25,
      "outputs": [
        {
          "output_type": "stream",
          "name": "stdout",
          "text": [
            "0.9350612322498185\n",
            "0.8422153330363636\n"
          ]
        }
      ]
    },
    {
      "cell_type": "markdown",
      "metadata": {
        "id": "iEqepEdRlqqB"
      },
      "source": [
        "Sumarize na tabela abaixo os resultados obtidos para os conjuntos de dados de treino e de teste"
      ]
    },
    {
      "cell_type": "markdown",
      "metadata": {
        "id": "VZ5RcpV3lqqC"
      },
      "source": [
        "**Resposta:**\n",
        "\n",
        "|    | algoritmo1 | algoritmo2 |\n",
        "|:---:|:---:|:---:|\n",
        "| treino | 0.85 | 0.93 |\n",
        "| teste  | 0.79 | 0.84 |"
      ]
    },
    {
      "cell_type": "markdown",
      "metadata": {
        "id": "yW-EildnlqqC"
      },
      "source": [
        "**Pergunta:** Qual dos algoritmos obteve um resultado melhor? Justifique\n",
        "\n",
        "**Resposta:**\n",
        "O algoritmo que teve melhor desempenho foi o Forest Random, pois ele teve um melhor aprendizado com os treinos,comparado ao algoritmo de regressão linear múltiplo e também seus testes ficaram acima da regressão linear."
      ]
    },
    {
      "cell_type": "markdown",
      "metadata": {
        "id": "n71WC4HYlqqC"
      },
      "source": [
        "## Modelo de produção: Teste com novos dados\n",
        "\n",
        "Use seu modelo treinado para determinar: \n",
        "\n",
        "**`Quanto vale um apartamento de 72m2 com 2 quartos, 2 vagas, reformado no Centro?`**"
      ]
    },
    {
      "cell_type": "code",
      "execution_count": 26,
      "metadata": {
        "id": "_i8gJ-CQlqqC"
      },
      "outputs": [],
      "source": [
        "#Seu Código aqui...\n",
        "imovel = pd.DataFrame({\n",
        "    'metros' : [72],\n",
        "    'quartos' : [2],\n",
        "    'vagas' : [2],\n",
        "    'reformado' : [1]\n",
        "})"
      ]
    },
    {
      "cell_type": "code",
      "source": [
        "valores = modelo.predict(imovel)[0]"
      ],
      "metadata": {
        "id": "5_d2Oc26vgwh"
      },
      "execution_count": 27,
      "outputs": []
    },
    {
      "cell_type": "code",
      "source": [
        "print(valores)"
      ],
      "metadata": {
        "colab": {
          "base_uri": "https://localhost:8080/"
        },
        "id": "VS2tqRn6v6qA",
        "outputId": "c4b6c888-a7e8-440f-87aa-cff3ce89526c"
      },
      "execution_count": 28,
      "outputs": [
        {
          "output_type": "stream",
          "name": "stdout",
          "text": [
            "369.6365481245001\n"
          ]
        }
      ]
    },
    {
      "cell_type": "markdown",
      "metadata": {
        "id": "it4VtkDklqqC"
      },
      "source": [
        "## 6. Conclusões finais\n",
        "\n",
        "Ufa!!... Chegamos ao final. Parabéns! De forma simplificada e completa, passamos por todas as etapas de um projeto de aprendizado de maquina. Outras etapas podem ser adicionadas no tratamento dos dados e desenvolvimento do modelo.\n"
      ]
    },
    {
      "cell_type": "markdown",
      "metadata": {
        "id": "nWr7ul_1lqqC"
      },
      "source": [
        "**Pergunta:**: O modelo desenvolvido obteve um resultado satisfatório? Justifique:\n",
        "\n",
        "**Resposta**: Sim, pois ficou dentro dos valores que eu tinha pensado."
      ]
    },
    {
      "cell_type": "markdown",
      "metadata": {
        "id": "CqiHZ4PAlqqC"
      },
      "source": [
        "**Pergunta:**: O que faria diferente para melhorar resultado obtido? Justifique:\n",
        "\n",
        "**Resposta**: Talvez ter usado outro algoritmo para fazer os testes e o treino, dessa forma fazendo os testes com outros algoritmos eu poderia avaliar qual poderia ter sido melhor do que o algoritmo que eu utilizei.\n",
        "\n",
        "\n",
        "\n",
        "\n"
      ]
    }
  ],
  "metadata": {
    "interpreter": {
      "hash": "916dbcbb3f70747c44a77c7bcd40155683ae19c65e1c03b4aa3499c5328201f1"
    },
    "kernelspec": {
      "display_name": "Python 3 (ipykernel)",
      "language": "python",
      "name": "python3"
    },
    "language_info": {
      "codemirror_mode": {
        "name": "ipython",
        "version": 3
      },
      "file_extension": ".py",
      "mimetype": "text/x-python",
      "name": "python",
      "nbconvert_exporter": "python",
      "pygments_lexer": "ipython3",
      "version": "3.10.2"
    },
    "colab": {
      "provenance": []
    }
  },
  "nbformat": 4,
  "nbformat_minor": 0
}